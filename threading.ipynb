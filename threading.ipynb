{
  "nbformat": 4,
  "nbformat_minor": 0,
  "metadata": {
    "colab": {
      "name": "threading.ipynb",
      "version": "0.3.2",
      "provenance": [],
      "include_colab_link": true
    },
    "kernelspec": {
      "name": "python3",
      "display_name": "Python 3"
    }
  },
  "cells": [
    {
      "cell_type": "markdown",
      "metadata": {
        "id": "view-in-github",
        "colab_type": "text"
      },
      "source": [
        "<a href=\"https://colab.research.google.com/github/Rangerix/MicroArrayDatasets/blob/master/threading.ipynb\" target=\"_parent\"><img src=\"https://colab.research.google.com/assets/colab-badge.svg\" alt=\"Open In Colab\"/></a>"
      ]
    },
    {
      "metadata": {
        "id": "PAXfHhYYv1vh",
        "colab_type": "code",
        "colab": {}
      },
      "cell_type": "code",
      "source": [
        "import threading\n",
        "import numpy\n",
        "import time"
      ],
      "execution_count": 0,
      "outputs": []
    },
    {
      "metadata": {
        "id": "LreIESK7wLz0",
        "colab_type": "code",
        "colab": {
          "base_uri": "https://localhost:8080/",
          "height": 35
        },
        "outputId": "b9ed3513-b5ac-409e-c74b-aba94b67c75b"
      },
      "cell_type": "code",
      "source": [
        "print(\"hello\")"
      ],
      "execution_count": 3,
      "outputs": [
        {
          "output_type": "stream",
          "text": [
            "hello\n"
          ],
          "name": "stdout"
        }
      ]
    },
    {
      "metadata": {
        "id": "gmZYLqr1v-b6",
        "colab_type": "code",
        "colab": {}
      },
      "cell_type": "code",
      "source": [
        "def parf(i,j):\n",
        "  #print(\"i=\",i,\" j=\",j)\n",
        "  mat[i][j]=arr[i]+arr[j]"
      ],
      "execution_count": 0,
      "outputs": []
    },
    {
      "metadata": {
        "id": "JoS-JUn9wUu7",
        "colab_type": "code",
        "colab": {}
      },
      "cell_type": "code",
      "source": [
        "n=3\n",
        "mat=numpy.full((n,n),-2.0)\n",
        "arr=[2,4,6]"
      ],
      "execution_count": 0,
      "outputs": []
    },
    {
      "metadata": {
        "id": "BDh_tMEwwoHO",
        "colab_type": "code",
        "colab": {
          "base_uri": "https://localhost:8080/",
          "height": 231
        },
        "outputId": "e578c7b3-413d-45bd-9dc6-04f3fa7907b7"
      },
      "cell_type": "code",
      "source": [
        "for i in range(3):\n",
        "  for j in range(3):\n",
        "    parf(i,j)\n",
        "print(mat)"
      ],
      "execution_count": 16,
      "outputs": [
        {
          "output_type": "stream",
          "text": [
            "i= 0  j= 0\n",
            "i= 0  j= 1\n",
            "i= 0  j= 2\n",
            "i= 1  j= 0\n",
            "i= 1  j= 1\n",
            "i= 1  j= 2\n",
            "i= 2  j= 0\n",
            "i= 2  j= 1\n",
            "i= 2  j= 2\n",
            "[[ 4.  6.  8.]\n",
            " [ 6.  8. 10.]\n",
            " [ 8. 10. 12.]]\n"
          ],
          "name": "stdout"
        }
      ]
    },
    {
      "metadata": {
        "id": "1oGTx8gcw2FY",
        "colab_type": "code",
        "colab": {
          "base_uri": "https://localhost:8080/",
          "height": 88
        },
        "outputId": "8221a855-4769-4c85-e3e0-f23b107ecc99"
      },
      "cell_type": "code",
      "source": [
        "threads=[]\n",
        "for i in range(3):\n",
        "  for j in range(3):\n",
        "    mythread=threading.Thread(target=parf,args=[i,j])\n",
        "    mythread.start()\n",
        "    threads.append(mythread)\n",
        "for t in threads:\n",
        "  t.join()\n",
        "print(mat)\n",
        "print(\"here am I\")"
      ],
      "execution_count": 24,
      "outputs": [
        {
          "output_type": "stream",
          "text": [
            "[[ 4.  6.  8.]\n",
            " [ 6.  8. 10.]\n",
            " [ 8. 10. 12.]]\n",
            "here am I\n"
          ],
          "name": "stdout"
        }
      ]
    },
    {
      "metadata": {
        "id": "vUvxHf9f1eHh",
        "colab_type": "code",
        "colab": {}
      },
      "cell_type": "code",
      "source": [
        ""
      ],
      "execution_count": 0,
      "outputs": []
    }
  ]
}